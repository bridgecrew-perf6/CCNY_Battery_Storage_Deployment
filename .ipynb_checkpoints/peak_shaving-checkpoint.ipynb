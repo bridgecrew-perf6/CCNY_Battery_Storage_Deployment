{
 "cells": [
  {
   "cell_type": "code",
   "execution_count": 3,
   "metadata": {},
   "outputs": [
    {
     "ename": "ModuleNotFoundError",
     "evalue": "No module named 'shapely'",
     "output_type": "error",
     "traceback": [
      "\u001b[0;31m---------------------------------------------------------------------------\u001b[0m",
      "\u001b[0;31mModuleNotFoundError\u001b[0m                       Traceback (most recent call last)",
      "\u001b[0;32m<ipython-input-3-737aeccc3313>\u001b[0m in \u001b[0;36m<module>\u001b[0;34m\u001b[0m\n\u001b[1;32m      3\u001b[0m \u001b[0;32mimport\u001b[0m \u001b[0mos\u001b[0m\u001b[0;34m\u001b[0m\u001b[0;34m\u001b[0m\u001b[0m\n\u001b[1;32m      4\u001b[0m \u001b[0;32mimport\u001b[0m \u001b[0mmatplotlib\u001b[0m\u001b[0;34m.\u001b[0m\u001b[0mpyplot\u001b[0m \u001b[0;32mas\u001b[0m \u001b[0mplt\u001b[0m\u001b[0;34m\u001b[0m\u001b[0;34m\u001b[0m\u001b[0m\n\u001b[0;32m----> 5\u001b[0;31m \u001b[0;32mfrom\u001b[0m \u001b[0mshapely\u001b[0m\u001b[0;34m.\u001b[0m\u001b[0mgeometry\u001b[0m \u001b[0;32mimport\u001b[0m \u001b[0mPolygon\u001b[0m\u001b[0;34m\u001b[0m\u001b[0;34m\u001b[0m\u001b[0m\n\u001b[0m\u001b[1;32m      6\u001b[0m \u001b[0mget_ipython\u001b[0m\u001b[0;34m(\u001b[0m\u001b[0;34m)\u001b[0m\u001b[0;34m.\u001b[0m\u001b[0mrun_line_magic\u001b[0m\u001b[0;34m(\u001b[0m\u001b[0;34m'matplotlib'\u001b[0m\u001b[0;34m,\u001b[0m \u001b[0;34m'inline'\u001b[0m\u001b[0;34m)\u001b[0m\u001b[0;34m\u001b[0m\u001b[0;34m\u001b[0m\u001b[0m\n",
      "\u001b[0;31mModuleNotFoundError\u001b[0m: No module named 'shapely'"
     ]
    }
   ],
   "source": [
    "import pandas as pd\n",
    "from numpy import timedelta64\n",
    "import os \n",
    "import matplotlib.pyplot as plt\n",
    "from shapely.geometry import Polygon\n",
    "%matplotlib inline"
   ]
  },
  {
   "cell_type": "code",
   "execution_count": null,
   "metadata": {},
   "outputs": [],
   "source": [
    "def read_input_data(dataset):\n",
    "    df = pd.read_excel(dataset) # read the data set\n",
    "    df2 = df.iloc[:,1:].mul(4) # multiply data by 4 to account for kWhr\n",
    "    df2.insert(0, 'Time', df['Time'].values)\n",
    "    return df2\n",
    "\n",
    "def generate_plot(full_day_ts, above_mean_ts, avg, date, building, start_date, end_date):\n",
    "    '''generates and saves the plot with Matplotlib'''\n",
    "    plot_name = f'{date}-{building}'\n",
    "    peak = full_day_ts[building].max() # find the max\n",
    "    peak_idx = full_day_ts[building].idxmax() # find the index where the highest peak occurs\n",
    "    coned_sma = full_day_ts[building].rolling(2).mean()\n",
    "    plt.plot(full_day_ts['Time'], full_day_ts[building], label='Load Profile') \n",
    "    plt.axvline(x=full_day_ts['Time'][peak_idx], ymax=peak, color='green', linestyle='--', label='Max. Peak') # vertical line for peak\n",
    "    plt.axhline(y=avg, color='purple', linestyle='--', label='Avg. Baseline') # horizontal line for mean\n",
    "    plt.xlim(start_date, end_date) # change the xlimit \n",
    "    plt.xticks(rotation=45) \n",
    "    plt.ylabel('kW') \n",
    "    plt.title(plot_name)\n",
    "    plt.fill_between(full_day_ts['Time'], full_day_ts[building], avg, \n",
    "                     where=(full_day_ts[building]> avg), interpolate=True, color='r',alpha=0.2)\n",
    "    plt.fill_between(full_day_ts['Time'], full_day_ts[building], avg, \n",
    "                     where=(full_day_ts[building]< avg), interpolate=True, color='g',alpha=0.2)\n",
    "    plt.plot(full_day_ts['Time'], coned_sma, label='ConEdison SMA')\n",
    "    plt.grid()\n",
    "    plt.legend()\n",
    "    fig = plt.gcf() \n",
    "    fig.set_size_inches(18.5, 10.5) \n",
    "    fig.savefig(os.path.join(\".\", \"Plots\", f\"{plot_name}.png\"), dpi=100) # save the figure\n",
    "    \n",
    "def battery_capacity(df, building):\n",
    "    x = df.index\n",
    "    y = df[building]\n",
    "    avg = df[building].mean() \n",
    "    \n",
    "    polygon_points = []\n",
    "    current_point = []\n",
    "    polystart = 0\n",
    "    \n",
    "    for x_val, y_val in zip(x, y):\n",
    "        if y_val >= avg:\n",
    "            if polystart == 0:\n",
    "                polystart = x_val - 1\n",
    "            current_point = [x_val-1, y[x_val-1]]\n",
    "            polygon_points.append(current_point)\n",
    "        if y_val < avg and len(polygon_points) > 0:\n",
    "            current_point = [x_val-1, y[x_val-1]]\n",
    "            polygon_points.append(current_point)\n",
    "            break\n",
    "    load_curve = polygon_points\n",
    "    for point in load_curve[:0:-1]:\n",
    "        polygon_points.append([point[0], avg])\n",
    "    polygon_points.append(polygon_points[0])\n",
    "    polygon = olygon(polygon_points)\n",
    "    area = polygon.area\n",
    "    return area, polygon_points\n",
    "     \n",
    "# finds hours where the power consumption is above the mean \n",
    "def find_time_above_avg(df, date='2022-02-01', time_window=1,\n",
    "                        building='CUNY City College of New York - 490118080600007 - Administration.E13 - 12785810'):\n",
    "    '''finds the time (in hours) where the power consumption was above average calculated for the same time period'''\n",
    "    start_date = pd.Timestamp(f'{date}') # start and end times\n",
    "    end_date = pd.Timestamp(f'{date}') + timedelta64(time_window, 'D')\n",
    "    daily_ts = df.loc[(df[\"Time\"] > start_date) & (df[\"Time\"] < end_date)] \n",
    "    peak = daily_ts[building].max()\n",
    "    avg = daily_ts[building].mean() \n",
    "    above_mean_df = daily_ts[daily_ts[building] > avg]\n",
    "    \n",
    "    generate_plot(daily_ts, above_mean_df, avg, date, building, start_date, end_date)\n",
    "    diff = peak - avg\n",
    "    time_above_avg = ((above_mean_df.Time.max() - above_mean_df.Time.min())/ timedelta64(1, 'D')) * 24\n",
    "    \n",
    "    print(battery_capacity(daily_ts, building))\n",
    "    \n",
    "    return {\"Duration (Hr)\": time_above_avg, \"Crest Factor (kW)\": diff} "
   ]
  },
  {
   "cell_type": "code",
   "execution_count": null,
   "metadata": {},
   "outputs": [],
   "source": [
    "data = read_input_data(os.path.join(\".\", \"Data\", \"data2019-2020.xlsx\"))"
   ]
  },
  {
   "cell_type": "code",
   "execution_count": null,
   "metadata": {},
   "outputs": [],
   "source": [
    "t = find_time_above_avg(data, date='2019-02-01', time_window=1,\n",
    "                       building='CUNY City College of New York - 490118080600007 - Steinmann.E1 - 12785714')"
   ]
  },
  {
   "cell_type": "code",
   "execution_count": null,
   "metadata": {},
   "outputs": [],
   "source": [
    "t = find_time_above_avg(data, date='2019-02-01', time_window=1,\n",
    "                       building='CUNY City College of New York - 490118085800016 - NAC.NorthsideR-521.E17 - 7252811')\n",
    "t"
   ]
  },
  {
   "cell_type": "markdown",
   "metadata": {},
   "source": [
    "# Corrections\n",
    "    - ✔ multiply data by 4 to account for kWhr\n",
    "    \n",
    "# Addtional attributes for graphs\n",
    "     - ✔ average baseline to max. peak difference\n",
    "     - ✔ ConEdison Avg load curve: 30 min moving window of averaged meter values\n",
    "     - ✔ Labels on graph\n",
    "     - ✔ add shading to profile above baseline\n",
    "     \n",
    "# Addtional \n",
    "     - Required Battery Capacity: integration below curve w.r.t average baseline\n",
    "     - Duration of load profile above the average including the time stamp (half done)\n",
    "     - * Separate graph that shows the averaged monthly load profile with all preceeding attributes\n",
    "     - "
   ]
  },
  {
   "cell_type": "code",
   "execution_count": null,
   "metadata": {},
   "outputs": [],
   "source": []
  },
  {
   "cell_type": "code",
   "execution_count": null,
   "metadata": {},
   "outputs": [],
   "source": []
  }
 ],
 "metadata": {
  "kernelspec": {
   "display_name": "Python 3",
   "language": "python",
   "name": "python3"
  },
  "language_info": {
   "codemirror_mode": {
    "name": "ipython",
    "version": 3
   },
   "file_extension": ".py",
   "mimetype": "text/x-python",
   "name": "python",
   "nbconvert_exporter": "python",
   "pygments_lexer": "ipython3",
   "version": "3.8.5"
  }
 },
 "nbformat": 4,
 "nbformat_minor": 4
}
